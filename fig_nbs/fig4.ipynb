{
 "cells": [
  {
   "cell_type": "code",
   "execution_count": 1,
   "metadata": {},
   "outputs": [],
   "source": [
    "import pandas as pd\n",
    "import numpy as np\n",
    "import matplotlib.pyplot as plt\n",
    "import scipy.stats\n",
    "import seaborn as sns"
   ]
  },
  {
   "cell_type": "code",
   "execution_count": 2,
   "metadata": {},
   "outputs": [],
   "source": [
    "# Read in diffsel, dmso, and synon data\n",
    "\n",
    "diffsel_df = pd.read_csv('../utils/diffsel_calib.csv', index_col=0)\n",
    "\n",
    "dmso_df = pd.read_csv('../utils/point_muts_calib.csv', index_col=0, header=[0,1])\n",
    "dmso_df.rename(dict(zip(dmso_df.index.tolist(), diffsel_df.index.tolist())), inplace=True)\n",
    "\n",
    "synon_zero_df = pd.read_csv('../utils/synon_df.csv', index_col=0, header=[0,1])\n",
    "\n",
    "synon_diffsel = np.genfromtxt('../utils/synon_diffsel_calib.txt', delimiter=',')\n",
    "\n",
    "diffsel_map = pd.read_csv('../utils/diffsel_calib_map.csv', index_col=0)\n"
   ]
  },
  {
   "cell_type": "code",
   "execution_count": 3,
   "metadata": {},
   "outputs": [],
   "source": [
    "# assign positions to diffsel\n",
    "pos_list = []\n",
    "for variant in diffsel_df.index.tolist():\n",
    "    if '_' in variant:\n",
    "        pos_list.append(np.nan)\n",
    "    else:\n",
    "        pos = variant[1:-1]\n",
    "        pos_list.append(int(pos))\n",
    "diffsel_df['position'] = pos_list"
   ]
  },
  {
   "cell_type": "code",
   "execution_count": 4,
   "metadata": {},
   "outputs": [],
   "source": [
    "# Define cutoffs for GOF activity and strong client\n",
    "\n",
    "dmso_cutoff = np.nanmean(synon_zero_df.values) + 1.3 * np.nanstd(synon_zero_df.values)\n",
    "diffsel_cutoff = np.nanmean(synon_diffsel) - 2 * np.nanstd(synon_diffsel)"
   ]
  },
  {
   "cell_type": "code",
   "execution_count": 5,
   "metadata": {},
   "outputs": [],
   "source": [
    "lof_cutoff = (np.nanmean(synon_zero_df.values) - 1.3 * np.nanstd(synon_zero_df.values))\n",
    "act_cutoff = (np.nanmean(synon_diffsel) + 2 * np.nanstd(synon_diffsel))"
   ]
  },
  {
   "cell_type": "code",
   "execution_count": 6,
   "metadata": {},
   "outputs": [],
   "source": [
    "client_idx = (diffsel_df['diffsel'] < diffsel_cutoff).values\n",
    "\n",
    "dmso_vals = dmso_df[('Zero', 'score')]\n",
    "rad_vals = dmso_df[('Radicicol', 'score')]"
   ]
  },
  {
   "cell_type": "code",
   "execution_count": 7,
   "metadata": {},
   "outputs": [],
   "source": [
    "# Read in ddG, SASA, and conservation DFs\n",
    "# Open is 0, closed is 1\n",
    "sasa_arr = np.genfromtxt('../utils/sc_sasa_arr.txt', delimiter=',')\n",
    "sasa_df = pd.DataFrame(sasa_arr.T, index=diffsel_df.index.tolist(), columns=['closed','open'])\n",
    "\n",
    "# hSASA\n",
    "hsasa = pd.read_csv('../utils/hsasa_df.csv', index_col=0)\n",
    "\n",
    "# Read in other Rosetta metrics\n",
    "inactive_fl = pd.read_csv('../utils/prims_rosetta_XXX_2src_human_FL_gap-shifted.txt', skiprows=22, index_col=0, delimiter=' ')\n",
    "inactive_cd = pd.read_csv('../utils/prims_rosetta_XXX_2src_human_CD_gap-shifted.txt', skiprows=22, index_col=0, delimiter=' ')\n",
    "active_fl = pd.read_csv('../utils/prims_rosetta_XXX_1y57_human_FL_gap-shifted.txt', skiprows=22, index_col=0, delimiter=' ')\n",
    "active_cd = pd.read_csv('../utils/prims_rosetta_XXX_1y57_human_CD_gap-shifted.txt', skiprows=22, index_col=0, delimiter=' ')\n",
    "\n",
    "\n",
    "# Coevolution values\n",
    "coevo_df = pd.read_csv('../utils/coevo_df.csv', index_col=0)\n"
   ]
  },
  {
   "cell_type": "code",
   "execution_count": 8,
   "metadata": {},
   "outputs": [
    {
     "name": "stdout",
     "output_type": "stream",
     "text": [
      "531\n",
      "color gray80, 2src_kinDom\n",
      "select af_pocket, resi 378+381+443+444+506+508+511+512\n",
      "color red, af_pocket\n",
      "select adj_pos, resi 374+375+376+377+379+380+382+513+383+384+385+386+441+442+445+446+447+448+503+504+505+507+509+510+514+515+516\n",
      "color salmon, adj_pos\n"
     ]
    }
   ],
   "source": [
    "# Define aF pocket positions from EA paper\n",
    "af_pocket_pos = [378, 381, 443, 444, 506, 508, 511, 512]\n",
    "\n",
    "\n",
    "# Get adjacent positions\n",
    "from Bio import PDB\n",
    "\n",
    "parser = PDB.PDBParser()\n",
    "io = PDB.PDBIO()\n",
    "struct = parser.get_structure('CA','../utils/CA.txt')\n",
    "\n",
    "coords = []\n",
    "resis = []\n",
    "prev_res = None\n",
    "for model in struct:\n",
    "    for chain in model:\n",
    "        for residue in chain:\n",
    "            resn = residue.get_id()[1]\n",
    "            resis.append(resn)\n",
    "            if prev_res is not None:\n",
    "                if resn - prev_res > 1:\n",
    "                    print(resn)\n",
    "            prev_res = resn        \n",
    "            \n",
    "            for atom in residue:\n",
    "                x,y,z = atom.get_coord()\n",
    "                coords.append(np.array([x, y, z]))\n",
    "\n",
    "resis = np.array(resis)\n",
    "resis = resis[:250]\n",
    "coords = np.array(coords)\n",
    "coords = coords[:250, :]\n",
    "\n",
    "# Calculate distance matrix\n",
    "from scipy.spatial import distance_matrix\n",
    "dist_mat = distance_matrix(coords, coords)\n",
    "\n",
    "# Get atoms within XX defined angstroms of aF pocket alpha carbons\n",
    "angstrom_cutoff = 7\n",
    "adjacent_resis = []\n",
    "idxer = -270\n",
    "for pos in af_pocket_pos:\n",
    "    idx = pos + idxer\n",
    "    adj_pos = resis[dist_mat[pos - 270, :] < angstrom_cutoff]\n",
    "    for pos2 in adj_pos:\n",
    "        if pos2 not in adjacent_resis and pos2 not in af_pocket_pos:\n",
    "            adjacent_resis.append(pos2)\n",
    "\n",
    "print('color gray80, 2src_kinDom')\n",
    "print('select af_pocket, resi ' + '+'.join([str(x) for x in af_pocket_pos]))\n",
    "print('color red, af_pocket')\n",
    "print('select adj_pos, resi ' + '+'.join([str(x) for x in adjacent_resis]))\n",
    "print('color salmon, adj_pos')"
   ]
  },
  {
   "cell_type": "code",
   "execution_count": 9,
   "metadata": {},
   "outputs": [
    {
     "data": {
      "image/png": "[encoded data removed]",
      "text/plain": [
       "<Figure size 432x288 with 1 Axes>"
      ]
     },
     "metadata": {
      "needs_background": "light"
     },
     "output_type": "display_data"
    }
   ],
   "source": [
    "# Count number of variants and clients at each position and make a bar chart\n",
    "af_vars = []\n",
    "af_clients = []\n",
    "adj_vars = []\n",
    "adj_clients = []\n",
    "\n",
    "for pos in af_pocket_pos:\n",
    "    n_vars = np.sum(~diffsel_map.loc[pos].isnull())\n",
    "    n_clients = np.sum(diffsel_map.loc[pos]  < diffsel_cutoff)\n",
    "    af_vars.append(n_vars)\n",
    "    af_clients.append(n_clients)\n",
    "    \n",
    "for pos in adjacent_resis:\n",
    "    n_vars = np.sum(~diffsel_map.loc[pos].isnull())\n",
    "    n_clients = np.sum(diffsel_map.loc[pos]  < diffsel_cutoff)\n",
    "    adj_vars.append(n_vars)\n",
    "    adj_clients.append(n_clients)\n",
    "    \n",
    "bar_pos = np.arange(len(af_vars + adj_vars))\n",
    "plt.bar(bar_pos, (af_vars + adj_vars), label='Total variants', color='grey')\n",
    "plt.bar(bar_pos[:len(af_pocket_pos)], af_clients, label='aF pocket clients', color='red')\n",
    "plt.bar(bar_pos[len(af_pocket_pos):], adj_clients, label='adjacent position clients', color='salmon')\n",
    "plt.xticks(bar_pos, list(af_pocket_pos) + list(adjacent_resis), rotation=90)\n",
    "plt.yticks(np.arange(21), np.arange(21))\n",
    "plt.legend()\n",
    "plt.xlabel('Position')\n",
    "plt.ylabel('Number of variants')\n",
    "plt.show()\n"
   ]
  },
  {
   "cell_type": "code",
   "execution_count": 10,
   "metadata": {},
   "outputs": [],
   "source": [
    "pos_list = af_pocket_pos + adjacent_resis\n",
    "pos_list.sort()\n",
    "\n",
    "n_vars = []\n",
    "n_clients = []\n",
    "class_list = []\n",
    "for pos in pos_list:\n",
    "    pos_df = diffsel_df[diffsel_df['position'] == pos]\n",
    "    pos_clients = sum(pos_df['diffsel'] < diffsel_cutoff)\n",
    "    \n",
    "    n_vars.append(len(pos_df))\n",
    "    n_clients.append(pos_clients)\n",
    "    \n",
    "    if pos in af_pocket_pos:\n",
    "        class_list.append('ɑF pocket')\n",
    "    else:\n",
    "        class_list.append('Adjacent')"
   ]
  },
  {
   "cell_type": "code",
   "execution_count": 11,
   "metadata": {},
   "outputs": [],
   "source": [
    "af_df = pd.DataFrame(np.array([class_list, n_vars, n_clients]).T, index=pos_list, columns=['Class', 'n variants', 'n clients'])"
   ]
  },
  {
   "cell_type": "code",
   "execution_count": 12,
   "metadata": {},
   "outputs": [
    {
     "name": "stdout",
     "output_type": "stream",
     "text": [
      "p-value of Fisher's exact test for different in proportion: 6.691035246165697e-16\n"
     ]
    }
   ],
   "source": [
    "# Do a Fisher's exact test to see if the proportions are different\n",
    "af_fisher_arr = [[sum(af_vars) - sum(af_clients), sum(af_clients)], [sum(adj_vars) - sum(adj_clients), sum(adj_clients)]]\n",
    "import scipy.stats as stats\n",
    "oddsratio, pvalue = stats.fisher_exact(af_fisher_arr)\n",
    "print('p-value of Fisher\\'s exact test for different in proportion: {}'.format(pvalue))"
   ]
  },
  {
   "cell_type": "code",
   "execution_count": 13,
   "metadata": {},
   "outputs": [
    {
     "data": {
      "text/plain": [
       "<matplotlib.patches.Rectangle at 0x7fccbd87d390>"
      ]
     },
     "execution_count": 13,
     "metadata": {},
     "output_type": "execute_result"
    },
    {
     "data": {
      "image/png": "[encoded data removed]",
      "text/plain": [
       "<Figure size 328.819x246.614 with 5 Axes>"
      ]
     },
     "metadata": {
      "needs_background": "light"
     },
     "output_type": "display_data"
    }
   ],
   "source": [
    "# Heatmap for phenomenology\n",
    "af_pocket_map_clustering = diffsel_map.loc[af_pocket_pos].copy()\n",
    "af_pocket_map_clustering = af_pocket_map_clustering[['H', 'K', 'R', 'D', 'E', 'C', 'G', 'P',\n",
    "                                                    'N', 'Q', 'S', 'T', 'Y', 'F', 'W', 'M', 'A', 'I',\n",
    "                                                    'L', 'V', '*']]\n",
    "af_clust_mask = af_pocket_map_clustering.isnull()\n",
    "af_pocket_map_clustering.fillna(0, inplace=True)\n",
    "af_map_bool = af_pocket_map_clustering < diffsel_cutoff\n",
    "\n",
    "sns_palette = sns.color_palette(\"hls\", 8).as_hex()\n",
    "lut = {\n",
    "    'H' : sns_palette[5],\n",
    "    'K' : sns_palette[5],\n",
    "    'R' : sns_palette[5],\n",
    "    'D' : sns_palette[0],\n",
    "    'E' : sns_palette[0],\n",
    "    'C' : sns_palette[3],\n",
    "    'M' : sns_palette[1],\n",
    "    'N' : sns_palette[-2],\n",
    "    'Q' : sns_palette[-2],\n",
    "    'S' : sns_palette[-2],\n",
    "    'T' : sns_palette[-2],\n",
    "    'A' : sns_palette[1],\n",
    "    'I' : sns_palette[1],\n",
    "    'L' : sns_palette[1],\n",
    "    'V' : sns_palette[1],\n",
    "    'F' : sns_palette[1],\n",
    "    'W' : sns_palette[1],\n",
    "    'Y' : sns_palette[-2],\n",
    "    'G' : sns_palette[3],\n",
    "    'P' : sns_palette[3],\n",
    "    '*' : 'grey'  \n",
    "}\n",
    "col_colors = af_pocket_map_clustering.columns.map(lut)\n",
    "from matplotlib.patches import Rectangle\n",
    "\n",
    "width = 116 / 25.4\n",
    "height = 87 / 25.4\n",
    "\n",
    "g = sns.clustermap(af_pocket_map_clustering,\n",
    "                      vmin=-3,\n",
    "                      vmax=2.5,\n",
    "                      cmap='coolwarm',\n",
    "                      mask=af_clust_mask,\n",
    "                      col_cluster=False,\n",
    "                      col_colors=col_colors,\n",
    "                   figsize=(width, height),\n",
    "                   xticklabels=1\n",
    "                  )\n",
    "ax = g.ax_heatmap\n",
    "g_reorder = g.data.loc[[512, 381, 444, 511, 506, 508 ,378 ,443], :]\n",
    "for i in np.arange(g.data.shape[0]):\n",
    "    for j in np.arange(g.data.shape[1]):\n",
    "        if (g_reorder.values[i, j] < diffsel_cutoff):\n",
    "            ax.add_patch(Rectangle((j, i), 1, 1, fill=False, edgecolor='k', lw=1.5))\n",
    "\n",
    "ax.set_xticklabels(g.ax_heatmap.get_xmajorticklabels(), fontsize = 12, rotation=0)\n",
    "ax.set_yticklabels(g.ax_heatmap.get_ymajorticklabels(), fontsize = 12)\n",
    "\n",
    "ax.add_patch(Rectangle((0,1), 3, 4, fill=False, edgecolor=sns_palette[5], lw=4))\n",
    "ax.add_patch(Rectangle((13,0), 7, 2, fill=False, edgecolor=sns_palette[1], lw=4))\n",
    "\n"
   ]
  },
  {
   "cell_type": "code",
   "execution_count": 14,
   "metadata": {},
   "outputs": [],
   "source": [
    "g.savefig('f4c.png', dpi=300)"
   ]
  },
  {
   "cell_type": "code",
   "execution_count": 15,
   "metadata": {},
   "outputs": [
    {
     "name": "stdout",
     "output_type": "stream",
     "text": [
      "color gray80, 2src_kinDom\n",
      "select b1b2_pos, resi 273+274+275+283+285+286\n",
      "set_color cdblue, [0.07843137, 0.78039216, 0.87058824]\n",
      "color cdblue, b1b2_pos\n"
     ]
    }
   ],
   "source": [
    "b1b2_pos = [273, 274, 275, 283, 285, 286]\n",
    "blue_col = np.array([20, 199, 222]) / 255\n",
    "# Get atoms within XX defined angstroms of aF pocket alpha carbons\n",
    "angstrom_cutoff = 7\n",
    "adjacent_resis = []\n",
    "idxer = -270\n",
    "for pos in b1b2_pos:\n",
    "    idx = pos + idxer\n",
    "    adj_pos = resis[dist_mat[pos - 270, :] < angstrom_cutoff]\n",
    "    for pos2 in adj_pos:\n",
    "        if pos2 not in adjacent_resis and pos2 not in b1b2_pos:\n",
    "            adjacent_resis.append(pos2)\n",
    "\n",
    "print('color gray80, 2src_kinDom')\n",
    "print('select b1b2_pos, resi ' + '+'.join([str(x) for x in b1b2_pos]))\n",
    "print('set_color cdblue, [0.07843137, 0.78039216, 0.87058824]')\n",
    "print('color cdblue, b1b2_pos')"
   ]
  },
  {
   "cell_type": "code",
   "execution_count": 16,
   "metadata": {},
   "outputs": [
    {
     "data": {
      "image/png": "[encoded data removed]",
      "text/plain": [
       "<Figure size 432x288 with 1 Axes>"
      ]
     },
     "metadata": {
      "needs_background": "light"
     },
     "output_type": "display_data"
    }
   ],
   "source": [
    "# Count number of variants and clients at each position and make a bar chart\n",
    "b1b2_vars = []\n",
    "b1b2_clients = []\n",
    "adj_vars = []\n",
    "adj_clients = []\n",
    "\n",
    "for pos in b1b2_pos:\n",
    "    n_vars = np.sum(~diffsel_map.loc[pos].isnull())\n",
    "    n_clients = np.sum(diffsel_map.loc[pos]  < diffsel_cutoff)\n",
    "    b1b2_vars.append(n_vars)\n",
    "    b1b2_clients.append(n_clients)\n",
    "    \n",
    "for pos in adjacent_resis:\n",
    "    n_vars = np.sum(~diffsel_map.loc[pos].isnull())\n",
    "    n_clients = np.sum(diffsel_map.loc[pos]  < diffsel_cutoff)\n",
    "    adj_vars.append(n_vars)\n",
    "    adj_clients.append(n_clients)\n",
    "    \n",
    "bar_pos = np.arange(len(b1b2_vars + adj_vars))\n",
    "plt.bar(bar_pos, (b1b2_vars + adj_vars), label='Total variants', color='grey')\n",
    "plt.bar(bar_pos[:len(b1b2_pos)], b1b2_clients, label='aF pocket clients', color='green')\n",
    "plt.bar(bar_pos[len(b1b2_pos):], adj_clients, label='adjacent position clients', color='palegreen')\n",
    "plt.xticks(bar_pos, list(b1b2_pos) + list(adjacent_resis), rotation=90)\n",
    "plt.yticks(np.arange(21), np.arange(21))\n",
    "plt.legend()\n",
    "plt.xlabel('Position')\n",
    "plt.ylabel('Number of variants')\n",
    "plt.show()"
   ]
  },
  {
   "cell_type": "code",
   "execution_count": 17,
   "metadata": {},
   "outputs": [],
   "source": [
    "pos_list = b1b2_pos + adjacent_resis\n",
    "pos_list.sort()\n",
    "\n",
    "n_vars = []\n",
    "n_clients = []\n",
    "class_list = []\n",
    "for pos in pos_list:\n",
    "    pos_df = diffsel_df[diffsel_df['position'] == pos]\n",
    "    pos_clients = sum(pos_df['diffsel'] < diffsel_cutoff)\n",
    "    \n",
    "    n_vars.append(len(pos_df))\n",
    "    n_clients.append(pos_clients)\n",
    "    \n",
    "    if pos in b1b2_pos:\n",
    "        class_list.append('B1B2 strands')\n",
    "    else:\n",
    "        class_list.append('Adjacent')"
   ]
  },
  {
   "cell_type": "code",
   "execution_count": 18,
   "metadata": {},
   "outputs": [],
   "source": [
    "b1b2_df = pd.DataFrame(np.array([class_list, n_vars, n_clients]).T, index=pos_list, columns=['Class', 'n variants', 'n clients'])"
   ]
  },
  {
   "cell_type": "code",
   "execution_count": 19,
   "metadata": {},
   "outputs": [
    {
     "name": "stdout",
     "output_type": "stream",
     "text": [
      "p-value of Fisher's exact test for different in proportion: 1.7905858641169683e-05\n"
     ]
    }
   ],
   "source": [
    "# Do a Fisher's exact test to see if the proportions are different\n",
    "b1b2_fisher_arr = [[sum(b1b2_vars) - sum(b1b2_clients), sum(b1b2_clients)], [sum(adj_vars) - sum(adj_clients), sum(adj_clients)]]\n",
    "oddsratio, pvalue = stats.fisher_exact(b1b2_fisher_arr)\n",
    "print('p-value of Fisher\\'s exact test for different in proportion: {}'.format(pvalue))"
   ]
  },
  {
   "cell_type": "code",
   "execution_count": 20,
   "metadata": {},
   "outputs": [
    {
     "data": {
      "text/plain": [
       "[Text(1, 0.5, '285'),\n",
       " Text(1, 1.5, '275'),\n",
       " Text(1, 2.5, '283'),\n",
       " Text(1, 3.5, '273'),\n",
       " Text(1, 4.5, '274'),\n",
       " Text(1, 5.5, '286')]"
      ]
     },
     "execution_count": 20,
     "metadata": {},
     "output_type": "execute_result"
    },
    {
     "data": {
      "image/png": "[encoded data removed]",
      "text/plain": [
       "<Figure size 328.819x246.614 with 5 Axes>"
      ]
     },
     "metadata": {
      "needs_background": "light"
     },
     "output_type": "display_data"
    }
   ],
   "source": [
    "# Heatmap for phenomenology\n",
    "b1b2_map_clustering = diffsel_map.loc[b1b2_pos].copy()\n",
    "b1b2_map_clustering = b1b2_map_clustering[['H', 'K', 'R', 'D', 'E', 'C', 'G', 'P',\n",
    "                                                    'N', 'Q', 'S', 'T', 'Y', 'F', 'W', 'M', 'A', 'I',\n",
    "                                                    'L', 'V', '*']]\n",
    "b1b2_clust_mask = b1b2_map_clustering.isnull()\n",
    "b1b2_map_clustering.fillna(0, inplace=True)\n",
    "b1b2_map_bool = b1b2_map_clustering < diffsel_cutoff\n",
    "\n",
    "sns_palette = sns.color_palette(\"hls\", 8).as_hex()\n",
    "lut = {\n",
    "    'H' : sns_palette[5],\n",
    "    'K' : sns_palette[5],\n",
    "    'R' : sns_palette[5],\n",
    "    'D' : sns_palette[0],\n",
    "    'E' : sns_palette[0],\n",
    "    'C' : sns_palette[3],\n",
    "    'M' : sns_palette[1],\n",
    "    'N' : sns_palette[-2],\n",
    "    'Q' : sns_palette[-2],\n",
    "    'S' : sns_palette[-2],\n",
    "    'T' : sns_palette[-2],\n",
    "    'A' : sns_palette[1],\n",
    "    'I' : sns_palette[1],\n",
    "    'L' : sns_palette[1],\n",
    "    'V' : sns_palette[1],\n",
    "    'F' : sns_palette[1],\n",
    "    'W' : sns_palette[1],\n",
    "    'Y' : sns_palette[-2],\n",
    "    'G' : sns_palette[3],\n",
    "    'P' : sns_palette[3],\n",
    "    '*' : 'grey'  \n",
    "}\n",
    "col_colors = b1b2_map_clustering.columns.map(lut)\n",
    "from matplotlib.patches import Rectangle\n",
    "\n",
    "g = sns.clustermap(b1b2_map_clustering,\n",
    "                      vmin=-3,\n",
    "                      vmax=2.5,\n",
    "                      cmap='coolwarm',\n",
    "                      mask=b1b2_clust_mask,\n",
    "                      col_cluster=False,\n",
    "                      col_colors=col_colors,\n",
    "                    figsize=(width, height),\n",
    "                    xticklabels=1)\n",
    "ax = g.ax_heatmap\n",
    "g_reorder = g.data.loc[[285, 275, 283, 273, 274, 286], :]\n",
    "for i in np.arange(g.data.shape[0]):\n",
    "    for j in np.arange(g.data.shape[1]):\n",
    "        if (g_reorder.values[i, j] < diffsel_cutoff):\n",
    "            ax.add_patch(Rectangle((j, i), 1, 1, fill=False, edgecolor='k', lw=1.5))\n",
    "\n",
    "ax.set_xticklabels(g.ax_heatmap.get_xmajorticklabels(), fontsize = 12, rotation=0)\n",
    "ax.set_yticklabels(g.ax_heatmap.get_ymajorticklabels(), fontsize = 12, rotation=0)\n"
   ]
  },
  {
   "cell_type": "code",
   "execution_count": 21,
   "metadata": {},
   "outputs": [],
   "source": [
    "g.savefig('f4d.png', dpi=300)"
   ]
  },
  {
   "cell_type": "code",
   "execution_count": null,
   "metadata": {},
   "outputs": [],
   "source": []
  }
 ],
 "metadata": {
  "kernelspec": {
   "display_name": "Python 3",
   "language": "python",
   "name": "python3"
  },
  "language_info": {
   "codemirror_mode": {
    "name": "ipython",
    "version": 3
   },
   "file_extension": ".py",
   "mimetype": "text/x-python",
   "name": "python",
   "nbconvert_exporter": "python",
   "pygments_lexer": "ipython3",
   "version": "3.7.6"
  }
 },
 "nbformat": 4,
 "nbformat_minor": 4
}
