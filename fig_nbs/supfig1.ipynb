{
 "cells": [
  {
   "cell_type": "code",
   "execution_count": 1,
   "metadata": {},
   "outputs": [],
   "source": [
    "import pandas as pd\n",
    "import numpy as np\n",
    "import matplotlib.pyplot as plt\n",
    "from matplotlib.colors import DivergingNorm\n",
    "import sys\n",
    "sys.path.insert(1, '../utils/')\n",
    "import src_utils\n",
    "import seaborn as sns\n",
    "\n",
    "import matplotlib\n",
    "import matplotlib.pyplot as plt\n",
    "import matplotlib.gridspec as gridspec\n",
    "\n",
    "import scipy"
   ]
  },
  {
   "cell_type": "code",
   "execution_count": 2,
   "metadata": {},
   "outputs": [],
   "source": [
    "filename = '../raw_data/20200918_dose_response_gm_format.summary'\n",
    "growth_rates = pd.read_csv(filename, index_col='Well', delimiter='\\t', skiprows=1)\n",
    "\n",
    "# Append columns with variant and corresponding\n",
    "row_dict = {\n",
    "    'A' : 0,\n",
    "    'B' : 0.05,\n",
    "    'C' : 0.1,\n",
    "    'D' : 0.5,\n",
    "    'E' : .75,\n",
    "    'F' : 10\n",
    "}\n",
    "\n",
    "variant_list = []\n",
    "concentration_list = []\n",
    "\n",
    "for well in growth_rates.index.tolist():\n",
    "    \n",
    "    row = well[0]\n",
    "    col = int(well[1:])\n",
    "    \n",
    "    if well == 'C7':\n",
    "        variant_list.append(np.nan)\n",
    "        concentration_list.append(np.nan)\n",
    "        continue\n",
    "    \n",
    "    if row in row_dict:\n",
    "        concentration_list.append(row_dict[row])\n",
    "    else:\n",
    "        concentration_list.append(np.nan)\n",
    "        \n",
    "        \n",
    "    if col < 4:\n",
    "        variant_list.append('WT')\n",
    "    elif col < 7:\n",
    "        variant_list.append('Empty')\n",
    "    elif col < 10:\n",
    "        variant_list.append('E381K')\n",
    "    else:\n",
    "        variant_list.append(np.nan)\n",
    "        \n",
    "growth_rates['Variant'] = variant_list\n",
    "growth_rates['Concentration'] = concentration_list"
   ]
  },
  {
   "cell_type": "code",
   "execution_count": 3,
   "metadata": {},
   "outputs": [
    {
     "name": "stderr",
     "output_type": "stream",
     "text": [
      "/opt/anaconda3/lib/python3.7/site-packages/ipykernel_launcher.py:13: UserWarning: Boolean Series key will be reindexed to match DataFrame index.\n",
      "  del sys.path[0]\n",
      "/opt/anaconda3/lib/python3.7/site-packages/numpy/core/fromnumeric.py:3335: RuntimeWarning: Mean of empty slice.\n",
      "  out=out, **kwargs)\n",
      "/opt/anaconda3/lib/python3.7/site-packages/numpy/core/_methods.py:161: RuntimeWarning: invalid value encountered in double_scalars\n",
      "  ret = ret.dtype.type(ret / rcount)\n",
      "/opt/anaconda3/lib/python3.7/site-packages/numpy/core/_methods.py:217: RuntimeWarning: Degrees of freedom <= 0 for slice\n",
      "  keepdims=keepdims)\n",
      "/opt/anaconda3/lib/python3.7/site-packages/numpy/core/_methods.py:186: RuntimeWarning: invalid value encountered in true_divide\n",
      "  arrmean, rcount, out=arrmean, casting='unsafe', subok=False)\n",
      "/opt/anaconda3/lib/python3.7/site-packages/numpy/core/_methods.py:209: RuntimeWarning: invalid value encountered in double_scalars\n",
      "  ret = ret.dtype.type(ret / rcount)\n"
     ]
    }
   ],
   "source": [
    "# Collect growth rate averages and errors for each condition tested\n",
    "\n",
    "variants = ['WT', 'Empty', 'E381K']\n",
    "concentrations = np.array([0, 0.5, 1, 5, 7.5, 10]) / 10\n",
    "\n",
    "gr_aves = np.zeros((len(variants), len(concentrations)))\n",
    "gr_stds = np.zeros((len(variants), len(concentrations)))\n",
    "\n",
    "for i, variant in enumerate(variants):\n",
    "    var_df = growth_rates[growth_rates['Variant'] == variant]\n",
    "    \n",
    "    for j, conc in enumerate(concentrations):\n",
    "        conc_df = var_df[growth_rates['Concentration'] == conc]\n",
    "        rates = conc_df['Rate'].values\n",
    "        ave_gr = np.mean(rates)\n",
    "        std_gr = np.std(rates)\n",
    "        \n",
    "        gr_aves[i, j] = ave_gr\n",
    "        gr_stds[i, j] = std_gr\n"
   ]
  },
  {
   "cell_type": "code",
   "execution_count": 5,
   "metadata": {},
   "outputs": [
    {
     "data": {
      "image/png": "[encoded data removed]",
      "text/plain": [
       "<Figure size 432x288 with 1 Axes>"
      ]
     },
     "metadata": {
      "needs_background": "light"
     },
     "output_type": "display_data"
    }
   ],
   "source": [
    "x = concentrations\n",
    "y = gr_aves[0, :]\n",
    "col='#6bd581'\n",
    "plt.scatter(x, y, c=col, label='WT')\n",
    "plt.errorbar(x, y, yerr=gr_stds[0, :], fmt='none', c=col)\n",
    "\n",
    "y = gr_aves[2, :]\n",
    "col = 'lightgrey'\n",
    "plt.scatter(x, y, c=col, label='E381K')\n",
    "plt.errorbar(x, y, yerr=gr_stds[2, :], fmt='none', c=col)\n",
    "\n",
    "y = gr_aves[1, :]\n",
    "col='#f3b2ca'\n",
    "plt.scatter(x, y, c=col, label='Empty vector')\n",
    "plt.errorbar(x, y, yerr=gr_stds[1, :], fmt='none', c=col)\n",
    "\n",
    "plt.ylim([0,0.0031])\n",
    "plt.ylabel('Growth rate (OD600/min)')\n",
    "plt.xlabel('Radicicol ($\\mu$M)')\n",
    "plt.legend()\n",
    "plt.savefig('sf1.png')"
   ]
  },
  {
   "cell_type": "code",
   "execution_count": null,
   "metadata": {},
   "outputs": [],
   "source": []
  }
 ],
 "metadata": {
  "kernelspec": {
   "display_name": "Python 3",
   "language": "python",
   "name": "python3"
  },
  "language_info": {
   "codemirror_mode": {
    "name": "ipython",
    "version": 3
   },
   "file_extension": ".py",
   "mimetype": "text/x-python",
   "name": "python",
   "nbconvert_exporter": "python",
   "pygments_lexer": "ipython3",
   "version": "3.7.6"
  }
 },
 "nbformat": 4,
 "nbformat_minor": 4
}
